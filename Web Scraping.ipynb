{
 "cells": [
  {
   "cell_type": "code",
   "execution_count": 1,
   "metadata": {},
   "outputs": [
    {
     "ename": "AttributeError",
     "evalue": "'DocumentFinderScraper' object has no attribute 'scrape'",
     "output_type": "error",
     "traceback": [
      "\u001b[1;31m---------------------------------------------------------------------------\u001b[0m",
      "\u001b[1;31mAttributeError\u001b[0m                            Traceback (most recent call last)",
      "\u001b[1;32m<ipython-input-1-3f998e8881f0>\u001b[0m in \u001b[0;36m<module>\u001b[1;34m\u001b[0m\n\u001b[0;32m     24\u001b[0m \u001b[1;32mif\u001b[0m \u001b[0m__name__\u001b[0m \u001b[1;33m==\u001b[0m \u001b[1;34m'__main__'\u001b[0m\u001b[1;33m:\u001b[0m\u001b[1;33m\u001b[0m\u001b[1;33m\u001b[0m\u001b[0m\n\u001b[0;32m     25\u001b[0m     \u001b[0mscraper\u001b[0m \u001b[1;33m=\u001b[0m \u001b[0mDocumentFinderScraper\u001b[0m\u001b[1;33m(\u001b[0m\u001b[1;33m)\u001b[0m\u001b[1;33m\u001b[0m\u001b[1;33m\u001b[0m\u001b[0m\n\u001b[1;32m---> 26\u001b[1;33m     \u001b[0mscraper\u001b[0m\u001b[1;33m.\u001b[0m\u001b[0mscrape\u001b[0m\u001b[1;33m(\u001b[0m\u001b[1;33m)\u001b[0m\u001b[1;33m\u001b[0m\u001b[1;33m\u001b[0m\u001b[0m\n\u001b[0m",
      "\u001b[1;31mAttributeError\u001b[0m: 'DocumentFinderScraper' object has no attribute 'scrape'"
     ]
    }
   ],
   "source": [
    "import re\n",
    "from urllib.parse import urlparse\n",
    "import mechanize\n",
    "\n",
    "from bs4 import BeautifulSoup\n",
    "\n",
    "class DocumentFinderScraper(object):\n",
    "    def __init__(self):\n",
    "        self.url = \"https://www.iexindia.com/marketdata/areaprice.aspx\"\n",
    "        self.br = mechanize.Browser()\n",
    "        self.br.addheaders = [('col0','col1','TimeSlot','A1','A2','E1','E2','N1','N2','N3','S1','S2','S3','W1','W2','W3','MCP')]\n",
    "\n",
    "##TO DO\n",
    "\n",
    "    ##submit form\n",
    "\n",
    "    #get return URL\n",
    "\n",
    "    #scrape results\n",
    "\n",
    "    #analyze pagination\n",
    "\n",
    "\n",
    "if __name__ == '__main__':\n",
    "    scraper = DocumentFinderScraper()\n",
    "    scraper.scrape()"
   ]
  },
  {
   "cell_type": "code",
   "execution_count": null,
   "metadata": {},
   "outputs": [],
   "source": []
  }
 ],
 "metadata": {
  "kernelspec": {
   "display_name": "Python 3",
   "language": "python",
   "name": "python3"
  },
  "language_info": {
   "codemirror_mode": {
    "name": "ipython",
    "version": 3
   },
   "file_extension": ".py",
   "mimetype": "text/x-python",
   "name": "python",
   "nbconvert_exporter": "python",
   "pygments_lexer": "ipython3",
   "version": "3.8.3"
  }
 },
 "nbformat": 4,
 "nbformat_minor": 4
}
